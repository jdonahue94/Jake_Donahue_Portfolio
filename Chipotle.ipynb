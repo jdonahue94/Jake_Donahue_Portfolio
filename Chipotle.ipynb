{
  "nbformat": 4,
  "nbformat_minor": 0,
  "metadata": {
    "colab": {
      "name": "Chipotle",
      "provenance": [],
      "collapsed_sections": [],
      "authorship_tag": "ABX9TyMY0QdQ6eeih6UnyUMpYK14",
      "include_colab_link": true
    },
    "kernelspec": {
      "name": "python3",
      "display_name": "Python 3"
    }
  },
  "cells": [
    {
      "cell_type": "markdown",
      "metadata": {
        "id": "view-in-github",
        "colab_type": "text"
      },
      "source": [
        "<a href=\"https://colab.research.google.com/github/jdonahue94/Portfolio/blob/main/Chipotle.ipynb\" target=\"_parent\"><img src=\"https://colab.research.google.com/assets/colab-badge.svg\" alt=\"Open In Colab\"/></a>"
      ]
    },
    {
      "cell_type": "markdown",
      "metadata": {
        "id": "oWySLYvn59vL"
      },
      "source": [
        "#### Importing Libraries"
      ]
    },
    {
      "cell_type": "code",
      "metadata": {
        "id": "8AQteeFbeMD_"
      },
      "source": [
        "import pandas as pd\n",
        "import csv\n",
        "from collections import defaultdict"
      ],
      "execution_count": 2,
      "outputs": []
    },
    {
      "cell_type": "markdown",
      "metadata": {
        "id": "qxWzN7TAfHar"
      },
      "source": [
        "#### Importing & Organizing Data - Part 1"
      ]
    },
    {
      "cell_type": "code",
      "metadata": {
        "id": "EOWReFueebPP"
      },
      "source": [
        "### Summary - read in the file with csv.reader(), store it in an object called file_nested_list\n",
        "\n",
        "### Step 1 - each row of data becomes an item (list) within a list\n",
        "with open('/content/orders.tsv', mode='r') as file:\n",
        "    file_nested_list = [row for row in csv.reader(file, delimiter='\\t')]\n",
        "\n",
        "### Step 2 - separating headers and order info from file_nested_list\n",
        "headers = file_nested_list[0]\n",
        "orders = file_nested_list[1:]"
      ],
      "execution_count": 3,
      "outputs": []
    },
    {
      "cell_type": "markdown",
      "metadata": {
        "id": "02JhXWv8hfMR"
      },
      "source": [
        "#### Importing & Organizing Data - Part 2"
      ]
    },
    {
      "cell_type": "code",
      "metadata": {
        "id": "lm-HnApWhpL_"
      },
      "source": [
        "### Step 1 - two different methods to access a tsv file\n",
        "Chipotle_Orders = '/content/orders.tsv'\n",
        "column_names = ['OrderID', 'Quantity', 'Item', 'Description', 'Price']\n",
        "df = pd.read_csv(Chipotle_Orders, sep = '\\t', names = column_names, skiprows = 1)\n",
        "df = pd.read_table(Chipotle_Orders, names = column_names, skiprows = 1)"
      ],
      "execution_count": null,
      "outputs": []
    },
    {
      "cell_type": "markdown",
      "metadata": {
        "id": "hyFEVYzv70Ba"
      },
      "source": [
        "#### Intermediate Level"
      ]
    },
    {
      "cell_type": "code",
      "metadata": {
        "colab": {
          "base_uri": "https://localhost:8080/"
        },
        "id": "q3j_H8CjPqc_",
        "outputId": "008ab303-04ab-4de4-8f1d-01105c9f3a22"
      },
      "source": [
        "### Part 1 Summary - calculate the average price of an order \n",
        "\n",
        "# Step 1 - finding unique orders, set() includes only unique values\n",
        "order_count = len(set(row[0] for row in orders))\n",
        "order_count\n",
        "\n",
        "# Step 2 - summing prices, quantity already taken into consideration\n",
        "order_value = [float(row[4].replace('$','')) for row in orders]\n",
        "order_sum = round(sum(order_value),2)\n",
        "\n",
        "# Step 3 - calculating average order value\n",
        "avg_order = order_sum / order_count\n",
        "avg_order"
      ],
      "execution_count": 4,
      "outputs": [
        {
          "output_type": "execute_result",
          "data": {
            "text/plain": [
              "18.811428571428575"
            ]
          },
          "metadata": {
            "tags": []
          },
          "execution_count": 4
        }
      ]
    },
    {
      "cell_type": "code",
      "metadata": {
        "colab": {
          "base_uri": "https://localhost:8080/"
        },
        "id": "RfbjTKfVa_MQ",
        "outputId": "eaf2eda9-215e-40a1-cd9d-354da20c3ca7"
      },
      "source": [
        "### Part 2 Summary - create a list (or set) containing all of unique sodas/soft drinks that Chipotle sells\n",
        "\n",
        "# Step 1 - using set comprehension to create a unique set of \"Canned\" drinks\n",
        "# note - sets hold only unique values, using string slicing to remove brackets\n",
        "unique_sodas = set(row[3][1:-1] for row in orders if \"Canned\" in row[2])\n",
        "unique_sodas"
      ],
      "execution_count": 5,
      "outputs": [
        {
          "output_type": "execute_result",
          "data": {
            "text/plain": [
              "{'Coca Cola',\n",
              " 'Coke',\n",
              " 'Diet Coke',\n",
              " 'Diet Dr. Pepper',\n",
              " 'Dr. Pepper',\n",
              " 'Lemonade',\n",
              " 'Mountain Dew',\n",
              " 'Nestea',\n",
              " 'Sprite'}"
            ]
          },
          "metadata": {
            "tags": []
          },
          "execution_count": 5
        }
      ]
    },
    {
      "cell_type": "markdown",
      "metadata": {
        "id": "q4rAUuy6XqlP"
      },
      "source": [
        "#### Advanced Level"
      ]
    },
    {
      "cell_type": "code",
      "metadata": {
        "colab": {
          "base_uri": "https://localhost:8080/"
        },
        "id": "wEYaaBJHZOaN",
        "outputId": "3c1cb35a-f0c2-42b4-b749-e928d49efef0"
      },
      "source": [
        "### Part 1 Summary - calculate the average number of toppings per burrito\n",
        "\n",
        "# step 1 - looping through each burrito order, counting commas that separate each topping in the description column\n",
        "burrito_count = 0\n",
        "total_toppings = 0\n",
        "for row in orders:\n",
        "  if 'Burrito' in row[2]:\n",
        "    burrito_count += 1\n",
        "    total_toppings += (row[3].count(\",\") + 1) # add one for last topping\n",
        "\n",
        "# Step 2 - calculating average toppings\n",
        "avg_toppings = round(total_toppings / burrito_count,2)\n",
        "print(f\"The typical burrito includes {avg_toppings} toppings\")"
      ],
      "execution_count": 6,
      "outputs": [
        {
          "output_type": "stream",
          "text": [
            "The typical burrito includes 5.4 toppings\n"
          ],
          "name": "stdout"
        }
      ]
    },
    {
      "cell_type": "code",
      "metadata": {
        "id": "ne2v0g2jd6AH",
        "colab": {
          "base_uri": "https://localhost:8080/"
        },
        "outputId": "6e0a876d-4634-4c86-8aa4-5bbea1b268d0"
      },
      "source": [
        "### Part 2 Summary - create a dictionary, keys = represent chip orders, values = total number of orders\n",
        "\n",
        "# Step 1 - creating a dictionary the old fashion way\n",
        "chip_orders = {}\n",
        "for row in orders:\n",
        "  if \"Chips\" in row[2]:\n",
        "    if row[2] not in chip_orders:\n",
        "      chip_orders[row[2]] = 0\n",
        "    chip_orders[row[2]] += int(row[1])\n",
        "\n",
        "# Step 2 - sorting the above dictionary using values\n",
        "chip_orders\n",
        "sorted_chip_orders = sorted(chip_orders.items(),key=lambda item: item[1], reverse = True)\n",
        "sorted_chip_orders\n",
        "\n",
        "# Step 2 - creating a dictionary using defaultdict()\n",
        "default_chip_orders = defaultdict(int)\n",
        "for row in orders:\n",
        "  if 'Chips' in row[2]:\n",
        "    default_chip_orders[row[2]] += int(row[1])\n",
        "\n",
        "chip_orders\n",
        "sorted_chip_orders"
      ],
      "execution_count": 8,
      "outputs": [
        {
          "output_type": "execute_result",
          "data": {
            "text/plain": [
              "[('Chips and Guacamole', 506),\n",
              " ('Chips', 230),\n",
              " ('Chips and Fresh Tomato Salsa', 130),\n",
              " ('Side of Chips', 110),\n",
              " ('Chips and Tomatillo Red Chili Salsa', 50),\n",
              " ('Chips and Tomatillo Green Chili Salsa', 45),\n",
              " ('Chips and Tomatillo-Green Chili Salsa', 33),\n",
              " ('Chips and Tomatillo-Red Chili Salsa', 25),\n",
              " ('Chips and Roasted Chili Corn Salsa', 23),\n",
              " ('Chips and Roasted Chili-Corn Salsa', 18),\n",
              " ('Chips and Mild Fresh Tomato Salsa', 1)]"
            ]
          },
          "metadata": {
            "tags": []
          },
          "execution_count": 8
        }
      ]
    }
  ]
}