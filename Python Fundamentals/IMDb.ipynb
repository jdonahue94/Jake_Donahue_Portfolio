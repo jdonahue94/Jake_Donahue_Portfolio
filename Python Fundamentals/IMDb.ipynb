{
  "nbformat": 4,
  "nbformat_minor": 0,
  "metadata": {
    "colab": {
      "name": "IMDb",
      "provenance": [],
      "collapsed_sections": []
    },
    "kernelspec": {
      "name": "python3",
      "display_name": "Python 3"
    },
    "language_info": {
      "name": "python"
    }
  },
  "cells": [
    {
      "cell_type": "markdown",
      "metadata": {
        "id": "jgqoxWSPwfe0"
      },
      "source": [
        "#### Importing Libraries"
      ]
    },
    {
      "cell_type": "code",
      "metadata": {
        "id": "-wiHuFo3wYM7"
      },
      "source": [
        "import pandas as pd\n",
        "import matplotlib.pyplot as plt\n",
        "import seaborn as sns\n",
        "import numpy as np\n",
        "%matplotlib inline"
      ],
      "execution_count": 3,
      "outputs": []
    },
    {
      "cell_type": "markdown",
      "metadata": {
        "id": "hrWMihKxk4IW"
      },
      "source": [
        "#### Part 1 - Initial Investigation"
      ]
    },
    {
      "cell_type": "code",
      "metadata": {
        "colab": {
          "base_uri": "https://localhost:8080/",
          "height": 141
        },
        "id": "babGDEHfk32D",
        "outputId": "88cbe861-3c8c-4742-8856-e632d3f1a725"
      },
      "source": [
        "### importing data\n",
        "column_names = ['StarRating', 'Title', 'ContentRating', 'Genre', 'Duration', 'ActorList']\n",
        "raw = pd.read_csv('/content/imdb_1000.csv', names = column_names, skiprows = 1)\n",
        "movies = pd.DataFrame(raw)\n",
        "movies.head(3)"
      ],
      "execution_count": 4,
      "outputs": [
        {
          "output_type": "execute_result",
          "data": {
            "text/html": [
              "<div>\n",
              "<style scoped>\n",
              "    .dataframe tbody tr th:only-of-type {\n",
              "        vertical-align: middle;\n",
              "    }\n",
              "\n",
              "    .dataframe tbody tr th {\n",
              "        vertical-align: top;\n",
              "    }\n",
              "\n",
              "    .dataframe thead th {\n",
              "        text-align: right;\n",
              "    }\n",
              "</style>\n",
              "<table border=\"1\" class=\"dataframe\">\n",
              "  <thead>\n",
              "    <tr style=\"text-align: right;\">\n",
              "      <th></th>\n",
              "      <th>StarRating</th>\n",
              "      <th>Title</th>\n",
              "      <th>ContentRating</th>\n",
              "      <th>Genre</th>\n",
              "      <th>Duration</th>\n",
              "      <th>ActorList</th>\n",
              "    </tr>\n",
              "  </thead>\n",
              "  <tbody>\n",
              "    <tr>\n",
              "      <th>0</th>\n",
              "      <td>9.3</td>\n",
              "      <td>The Shawshank Redemption</td>\n",
              "      <td>R</td>\n",
              "      <td>Crime</td>\n",
              "      <td>142</td>\n",
              "      <td>[u'Tim Robbins', u'Morgan Freeman', u'Bob Gunt...</td>\n",
              "    </tr>\n",
              "    <tr>\n",
              "      <th>1</th>\n",
              "      <td>9.2</td>\n",
              "      <td>The Godfather</td>\n",
              "      <td>R</td>\n",
              "      <td>Crime</td>\n",
              "      <td>175</td>\n",
              "      <td>[u'Marlon Brando', u'Al Pacino', u'James Caan']</td>\n",
              "    </tr>\n",
              "    <tr>\n",
              "      <th>2</th>\n",
              "      <td>9.1</td>\n",
              "      <td>The Godfather: Part II</td>\n",
              "      <td>R</td>\n",
              "      <td>Crime</td>\n",
              "      <td>200</td>\n",
              "      <td>[u'Al Pacino', u'Robert De Niro', u'Robert Duv...</td>\n",
              "    </tr>\n",
              "  </tbody>\n",
              "</table>\n",
              "</div>"
            ],
            "text/plain": [
              "   StarRating  ...                                          ActorList\n",
              "0         9.3  ...  [u'Tim Robbins', u'Morgan Freeman', u'Bob Gunt...\n",
              "1         9.2  ...    [u'Marlon Brando', u'Al Pacino', u'James Caan']\n",
              "2         9.1  ...  [u'Al Pacino', u'Robert De Niro', u'Robert Duv...\n",
              "\n",
              "[3 rows x 6 columns]"
            ]
          },
          "metadata": {
            "tags": []
          },
          "execution_count": 4
        }
      ]
    },
    {
      "cell_type": "code",
      "metadata": {
        "colab": {
          "base_uri": "https://localhost:8080/"
        },
        "id": "uz5SEK9GnZSG",
        "outputId": "866e99bc-ac9c-49ee-8ad3-de8b11f5ff56"
      },
      "source": [
        "### check the number of rows and columns\n",
        "rows = movies.shape[0]\n",
        "columns = movies.shape[1]\n",
        "print(f\"The movies DataFrame consists of {columns} rows and {rows} rows.\")"
      ],
      "execution_count": 5,
      "outputs": [
        {
          "output_type": "stream",
          "text": [
            "The movies DataFrame consists of 6 rows and 979 rows.\n"
          ],
          "name": "stdout"
        }
      ]
    },
    {
      "cell_type": "code",
      "metadata": {
        "colab": {
          "base_uri": "https://localhost:8080/"
        },
        "id": "FjtKWLZaoPQ_",
        "outputId": "9ed81934-4ad2-46da-8d63-e103cf4072cc"
      },
      "source": [
        "### check the data type of each column\n",
        "movies.dtypes"
      ],
      "execution_count": 6,
      "outputs": [
        {
          "output_type": "execute_result",
          "data": {
            "text/plain": [
              "StarRating       float64\n",
              "Title             object\n",
              "ContentRating     object\n",
              "Genre             object\n",
              "Duration           int64\n",
              "ActorList         object\n",
              "dtype: object"
            ]
          },
          "metadata": {
            "tags": []
          },
          "execution_count": 6
        }
      ]
    },
    {
      "cell_type": "code",
      "metadata": {
        "colab": {
          "base_uri": "https://localhost:8080/"
        },
        "id": "9GtyoAwLoxbn",
        "outputId": "fe656749-c56c-4bdf-84b6-db5359eea2d8"
      },
      "source": [
        "### Task 1 - calculate the average movie duration\n",
        "avg_duration = round(movies['Duration'].mean(),2)\n",
        "print(f\"The average movie duration is {avg_duration} minutes\")"
      ],
      "execution_count": 7,
      "outputs": [
        {
          "output_type": "stream",
          "text": [
            "The average movie duration is 120.98 minutes\n"
          ],
          "name": "stdout"
        }
      ]
    },
    {
      "cell_type": "code",
      "metadata": {
        "colab": {
          "base_uri": "https://localhost:8080/",
          "height": 110
        },
        "id": "Gq_YG3i-pAY4",
        "outputId": "672844c0-6cea-41f6-996a-3a29aff31f9d"
      },
      "source": [
        "### Task 2 - identify the shortest and longest movies\n",
        "shortest = movies.sort_values('Duration').head(1)\n",
        "longest = movies.sort_values('Duration').tail(1)\n",
        "\n",
        "# concat two dataframes into one\n",
        "dataframes = [shortest, longest]\n",
        "comparison = pd.concat(dataframes).reset_index(drop = True)\n",
        "comparison"
      ],
      "execution_count": 9,
      "outputs": [
        {
          "output_type": "execute_result",
          "data": {
            "text/html": [
              "<div>\n",
              "<style scoped>\n",
              "    .dataframe tbody tr th:only-of-type {\n",
              "        vertical-align: middle;\n",
              "    }\n",
              "\n",
              "    .dataframe tbody tr th {\n",
              "        vertical-align: top;\n",
              "    }\n",
              "\n",
              "    .dataframe thead th {\n",
              "        text-align: right;\n",
              "    }\n",
              "</style>\n",
              "<table border=\"1\" class=\"dataframe\">\n",
              "  <thead>\n",
              "    <tr style=\"text-align: right;\">\n",
              "      <th></th>\n",
              "      <th>StarRating</th>\n",
              "      <th>Title</th>\n",
              "      <th>ContentRating</th>\n",
              "      <th>Genre</th>\n",
              "      <th>Duration</th>\n",
              "      <th>ActorList</th>\n",
              "    </tr>\n",
              "  </thead>\n",
              "  <tbody>\n",
              "    <tr>\n",
              "      <th>0</th>\n",
              "      <td>8.0</td>\n",
              "      <td>Freaks</td>\n",
              "      <td>UNRATED</td>\n",
              "      <td>Drama</td>\n",
              "      <td>64</td>\n",
              "      <td>[u'Wallace Ford', u'Leila Hyams', u'Olga Bacla...</td>\n",
              "    </tr>\n",
              "    <tr>\n",
              "      <th>1</th>\n",
              "      <td>7.8</td>\n",
              "      <td>Hamlet</td>\n",
              "      <td>PG-13</td>\n",
              "      <td>Drama</td>\n",
              "      <td>242</td>\n",
              "      <td>[u'Kenneth Branagh', u'Julie Christie', u'Dere...</td>\n",
              "    </tr>\n",
              "  </tbody>\n",
              "</table>\n",
              "</div>"
            ],
            "text/plain": [
              "   StarRating  ...                                          ActorList\n",
              "0         8.0  ...  [u'Wallace Ford', u'Leila Hyams', u'Olga Bacla...\n",
              "1         7.8  ...  [u'Kenneth Branagh', u'Julie Christie', u'Dere...\n",
              "\n",
              "[2 rows x 6 columns]"
            ]
          },
          "metadata": {
            "tags": []
          },
          "execution_count": 9
        }
      ]
    },
    {
      "cell_type": "code",
      "metadata": {
        "colab": {
          "base_uri": "https://localhost:8080/",
          "height": 295
        },
        "id": "CevL1RqdX5K5",
        "outputId": "7953a46d-087f-48ba-e11b-954fd238a75a"
      },
      "source": [
        "### Task 3 - create a histogram which visualizes movie duration\n",
        "\n",
        "bins = np.arange(50, 250, 10).tolist()\n",
        "plt.hist(movies['Duration'], bins = bins, color = '#fc7f03') # using hexadicimal number\n",
        "\n",
        "# formatting \n",
        "plt.ylabel('Movie Count')\n",
        "plt.xlabel('Duration in Minutes')\n",
        "plt.title('IMDb Movie Durantion')\n",
        "plt.show()"
      ],
      "execution_count": 11,
      "outputs": [
        {
          "output_type": "display_data",
          "data": {
            "image/png": "[encoded data removed]",
            "text/plain": [
              "<Figure size 432x288 with 1 Axes>"
            ]
          },
          "metadata": {
            "tags": [],
            "needs_background": "light"
          }
        }
      ]
    },
    {
      "cell_type": "code",
      "metadata": {
        "colab": {
          "base_uri": "https://localhost:8080/",
          "height": 279
        },
        "id": "C9a0CTnTux6w",
        "outputId": "233810ea-6cd9-4a05-f15c-3485fe7597dd"
      },
      "source": [
        "### Task 4 - use a box plot to visualize movie duration (seaborn)\n",
        "sns.boxplot(x = movies['Duration'])\n",
        "plt.show()"
      ],
      "execution_count": 10,
      "outputs": [
        {
          "output_type": "display_data",
          "data": {
            "image/png": "[encoded data removed]",
            "text/plain": [
              "<Figure size 432x288 with 1 Axes>"
            ]
          },
          "metadata": {
            "tags": [],
            "needs_background": "light"
          }
        }
      ]
    },
    {
      "cell_type": "markdown",
      "metadata": {
        "id": "Z6kodvtRvH9d"
      },
      "source": [
        "#### Part 2 - Further Filtering & Visualization"
      ]
    },
    {
      "cell_type": "code",
      "metadata": {
        "colab": {
          "base_uri": "https://localhost:8080/",
          "height": 295
        },
        "id": "VPaAK89bWxDm",
        "outputId": "f85ad548-b136-49c7-ccb4-86d84a121c36"
      },
      "source": [
        "### Task 1 - count how many movies have each of the content ratings, visualize said counts\n",
        "content_count = movies['ContentRating'].value_counts().reset_index()\n",
        "content_count.rename(columns = {'index': 'ContentRating', 'ContentRating': 'Count'}, inplace = True)\n",
        "sns.barplot(y = content_count['ContentRating'], x = content_count['Count']).set_title('Movie Count by Content Rating')\n",
        "plt.show()"
      ],
      "execution_count": 43,
      "outputs": [
        {
          "output_type": "display_data",
          "data": {
            "image/png": "[encoded data removed]",
            "text/plain": [
              "<Figure size 432x288 with 1 Axes>"
            ]
          },
          "metadata": {
            "tags": [],
            "needs_background": "light"
          }
        }
      ]
    },
    {
      "cell_type": "code",
      "metadata": {
        "colab": {
          "base_uri": "https://localhost:8080/",
          "height": 295
        },
        "id": "FdUiFfbXvU3M",
        "outputId": "c9939cf8-b039-4238-ec5f-1ba8299f58d3"
      },
      "source": [
        "### Task 2 - convert the following content ratings\n",
        "\n",
        "# \"UNRATED\": NOT RATED, APPROVED, PASSED, GP\n",
        "movies['ContentRating'].replace(['NOT RATED', 'APPROVED', 'PASSED', 'GP'], 'UNRATED', inplace = True)\n",
        "\n",
        "# \"NC-17\": X, TV-MA\n",
        "movies['ContentRating'].replace(['X', 'TV-MA'], 'NC-17', inplace = True)\n",
        "\n",
        "### Task 2A - visualization\n",
        "content_count = movies['ContentRating'].value_counts().reset_index()\n",
        "content_count.rename(columns = {'index': 'ContentRating', 'ContentRating': 'Count'}, inplace = True)\n",
        "sns.barplot(y = content_count['ContentRating'], x = content_count['Count']).set_title('Movie Count by Content Rating')\n",
        "plt.show()"
      ],
      "execution_count": 42,
      "outputs": [
        {
          "output_type": "display_data",
          "data": {
            "image/png": "[encoded data removed]",
            "text/plain": [
              "<Figure size 432x288 with 1 Axes>"
            ]
          },
          "metadata": {
            "tags": [],
            "needs_background": "light"
          }
        }
      ]
    },
    {
      "cell_type": "code",
      "metadata": {
        "id": "7UFuexRyxOVV",
        "colab": {
          "base_uri": "https://localhost:8080/"
        },
        "outputId": "5886e535-f9eb-4dfb-f4ec-732417acc6b1"
      },
      "source": [
        "### Task 3 - count the number of missing values in each column\n",
        "movies.isnull().sum()"
      ],
      "execution_count": 44,
      "outputs": [
        {
          "output_type": "execute_result",
          "data": {
            "text/plain": [
              "StarRating       0\n",
              "Title            0\n",
              "ContentRating    3\n",
              "Genre            0\n",
              "Duration         0\n",
              "ActorList        0\n",
              "dtype: int64"
            ]
          },
          "metadata": {
            "tags": []
          },
          "execution_count": 44
        }
      ]
    },
    {
      "cell_type": "code",
      "metadata": {
        "colab": {
          "base_uri": "https://localhost:8080/",
          "height": 141
        },
        "id": "9Qa6muB0atm6",
        "outputId": "5033db80-32a2-4c60-967a-9e7dc4d73dbb"
      },
      "source": [
        "# Task 3A - find the movies that are missing a ContentRating\n",
        "null_filter = movies['ContentRating'].isnull()\n",
        "movies[null_filter]"
      ],
      "execution_count": 48,
      "outputs": [
        {
          "output_type": "execute_result",
          "data": {
            "text/html": [
              "<div>\n",
              "<style scoped>\n",
              "    .dataframe tbody tr th:only-of-type {\n",
              "        vertical-align: middle;\n",
              "    }\n",
              "\n",
              "    .dataframe tbody tr th {\n",
              "        vertical-align: top;\n",
              "    }\n",
              "\n",
              "    .dataframe thead th {\n",
              "        text-align: right;\n",
              "    }\n",
              "</style>\n",
              "<table border=\"1\" class=\"dataframe\">\n",
              "  <thead>\n",
              "    <tr style=\"text-align: right;\">\n",
              "      <th></th>\n",
              "      <th>StarRating</th>\n",
              "      <th>Title</th>\n",
              "      <th>ContentRating</th>\n",
              "      <th>Genre</th>\n",
              "      <th>Duration</th>\n",
              "      <th>ActorList</th>\n",
              "    </tr>\n",
              "  </thead>\n",
              "  <tbody>\n",
              "    <tr>\n",
              "      <th>187</th>\n",
              "      <td>8.2</td>\n",
              "      <td>Butch Cassidy and the Sundance Kid</td>\n",
              "      <td>NaN</td>\n",
              "      <td>Biography</td>\n",
              "      <td>110</td>\n",
              "      <td>[u'Paul Newman', u'Robert Redford', u'Katharin...</td>\n",
              "    </tr>\n",
              "    <tr>\n",
              "      <th>649</th>\n",
              "      <td>7.7</td>\n",
              "      <td>Where Eagles Dare</td>\n",
              "      <td>NaN</td>\n",
              "      <td>Action</td>\n",
              "      <td>158</td>\n",
              "      <td>[u'Richard Burton', u'Clint Eastwood', u'Mary ...</td>\n",
              "    </tr>\n",
              "    <tr>\n",
              "      <th>936</th>\n",
              "      <td>7.4</td>\n",
              "      <td>True Grit</td>\n",
              "      <td>NaN</td>\n",
              "      <td>Adventure</td>\n",
              "      <td>128</td>\n",
              "      <td>[u'John Wayne', u'Kim Darby', u'Glen Campbell']</td>\n",
              "    </tr>\n",
              "  </tbody>\n",
              "</table>\n",
              "</div>"
            ],
            "text/plain": [
              "     StarRating  ...                                          ActorList\n",
              "187         8.2  ...  [u'Paul Newman', u'Robert Redford', u'Katharin...\n",
              "649         7.7  ...  [u'Richard Burton', u'Clint Eastwood', u'Mary ...\n",
              "936         7.4  ...    [u'John Wayne', u'Kim Darby', u'Glen Campbell']\n",
              "\n",
              "[3 rows x 6 columns]"
            ]
          },
          "metadata": {
            "tags": []
          },
          "execution_count": 48
        }
      ]
    },
    {
      "cell_type": "code",
      "metadata": {
        "colab": {
          "base_uri": "https://localhost:8080/"
        },
        "id": "X5O9gvFIapTO",
        "outputId": "01c79af9-1794-4ec6-d7e4-b46ac763b5b4"
      },
      "source": [
        "# Task 3B - replacing NaN values, confirm 0 NaN values\n",
        "movies['ContentRating'] = movies['ContentRating'].fillna('UNRATED')\n",
        "movies.isnull().sum()"
      ],
      "execution_count": 49,
      "outputs": [
        {
          "output_type": "execute_result",
          "data": {
            "text/plain": [
              "StarRating       0\n",
              "Title            0\n",
              "ContentRating    0\n",
              "Genre            0\n",
              "Duration         0\n",
              "ActorList        0\n",
              "dtype: int64"
            ]
          },
          "metadata": {
            "tags": []
          },
          "execution_count": 49
        }
      ]
    },
    {
      "cell_type": "code",
      "metadata": {
        "colab": {
          "base_uri": "https://localhost:8080/",
          "height": 313
        },
        "id": "cDL6AfPG0b96",
        "outputId": "a139c451-fa66-4f60-ca67-0fdf4d3f94bd"
      },
      "source": [
        "### Task 4 - calculate the average rating for movies with durations >= 2hrs, compare with < 2hrs\n",
        "\n",
        "# creating filters\n",
        "long_filt = movies['Duration'] >= 120 \n",
        "short_filt = movies['Duration'] < 120\n",
        "\n",
        "# calculating average rating\n",
        "long_rating = round(movies[long_filt]['StarRating'].mean(),2)\n",
        "short_rating = round(movies[short_filt]['StarRating'].mean(),2)\n",
        "\n",
        "# creating dictionaries --> dataframes\n",
        "long_dict = {'Duration': '>= 2hrs', 'AverageRating': long_rating}\n",
        "short_dict = {'Duration': '< 2hrs', 'AverageRating': short_rating}\n",
        "long_df = pd.DataFrame(long_dict, index = [0])\n",
        "short_df = pd.DataFrame(short_dict, index = [0])\n",
        "\n",
        "# concat the above dataframes and visualize the comparison\n",
        "dataframes = [long_df, short_df]\n",
        "comparison = pd.concat(dataframes).reset_index(drop = True)\n",
        "sns.barplot(x = comparison['Duration'], y = comparison['AverageRating']).set_title('Average Rating by Movie Duration')\n",
        "plt.show()\n",
        "\n",
        "print(f\"The average rating for movies >= 2 hrs is {long_rating} while the average rating for movies < 2hrs = {short_rating}\")"
      ],
      "execution_count": 71,
      "outputs": [
        {
          "output_type": "display_data",
          "data": {
            "image/png": "[encoded data removed]",
            "text/plain": [
              "<Figure size 432x288 with 1 Axes>"
            ]
          },
          "metadata": {
            "tags": [],
            "needs_background": "light"
          }
        },
        {
          "output_type": "stream",
          "text": [
            "The average rating for movies >= 2 hrs is 7.95 while the average rating for movies < 2hrs = 7.84\n"
          ],
          "name": "stdout"
        }
      ]
    },
    {
      "cell_type": "code",
      "metadata": {
        "colab": {
          "base_uri": "https://localhost:8080/",
          "height": 383
        },
        "id": "Jw7XBHYL1AlE",
        "outputId": "a94183f0-53b8-431e-b095-edcec36113fc"
      },
      "source": [
        "### Task 5 -  is a relationship between duration and star rating?\n",
        "viz = sns.relplot(x = 'Duration', y = 'StarRating', hue = 'ContentRating', data = movies)\n",
        "viz.set(xlabel = 'Movie Duration in Minutes', ylabel = 'Star Rating')\n",
        "plt.show()"
      ],
      "execution_count": 79,
      "outputs": [
        {
          "output_type": "display_data",
          "data": {
            "image/png": "[encoded data removed]",
            "text/plain": [
              "<Figure size 443.5x360 with 1 Axes>"
            ]
          },
          "metadata": {
            "tags": [],
            "needs_background": "light"
          }
        }
      ]
    },
    {
      "cell_type": "code",
      "metadata": {
        "colab": {
          "base_uri": "https://localhost:8080/",
          "height": 295
        },
        "id": "yn-Dt3ug2GT0",
        "outputId": "8592fe27-419e-4f3f-fe32-070476fc5f6c"
      },
      "source": [
        "### Task 6 - calculate the average duration for each genre\n",
        "duration = movies.groupby('Genre')['Duration'].mean().reset_index()\n",
        "duration.rename(columns = {'Duration': 'Average Duration'}, inplace = True)\n",
        "sns.barplot(y = duration['Genre'], x = duration['Average Duration']).set_title('Average Movie Duration by Genre')\n",
        "plt.show()"
      ],
      "execution_count": 88,
      "outputs": [
        {
          "output_type": "display_data",
          "data": {
            "image/png": "[encoded data removed]",
            "text/plain": [
              "<Figure size 432x288 with 1 Axes>"
            ]
          },
          "metadata": {
            "tags": [],
            "needs_background": "light"
          }
        }
      ]
    },
    {
      "cell_type": "markdown",
      "metadata": {
        "id": "li1c5a2z6K_-"
      },
      "source": [
        "#### Part 3 - Additional Filtering & Visualization"
      ]
    },
    {
      "cell_type": "code",
      "metadata": {
        "id": "Pvknisp52aAN",
        "colab": {
          "base_uri": "https://localhost:8080/",
          "height": 295
        },
        "outputId": "3b39045f-d546-41c9-85c6-e9373733965e"
      },
      "source": [
        "### Task  1 - visualize the relationship between content rating and duration\n",
        "vis = sns.boxplot(x = movies['Duration'], y = movies['ContentRating'])\n",
        "vis.set(xlabel = 'Movie Duration in Minutes', ylabel = 'Content Rating', title = 'Movie Duaration by Content Rating')\n",
        "plt.show()"
      ],
      "execution_count": 97,
      "outputs": [
        {
          "output_type": "display_data",
          "data": {
            "image/png": "[encoded data removed]",
            "text/plain": [
              "<Figure size 432x288 with 1 Axes>"
            ]
          },
          "metadata": {
            "tags": [],
            "needs_background": "light"
          }
        }
      ]
    },
    {
      "cell_type": "code",
      "metadata": {
        "colab": {
          "base_uri": "https://localhost:8080/",
          "height": 609
        },
        "id": "vNERFox0xKQ2",
        "outputId": "00b605cc-e5f9-48df-c202-5245dde954a9"
      },
      "source": [
        "### Task 2 - determine the top rated movie for each genre\n",
        "\n",
        "# creating a dataframe which includes all columns\n",
        "top_movies = movies.sort_values('StarRating', ascending = False).groupby('Genre').first().reset_index()\n",
        "top_movies"
      ],
      "execution_count": 99,
      "outputs": [
        {
          "output_type": "execute_result",
          "data": {
            "text/html": [
              "<div>\n",
              "<style scoped>\n",
              "    .dataframe tbody tr th:only-of-type {\n",
              "        vertical-align: middle;\n",
              "    }\n",
              "\n",
              "    .dataframe tbody tr th {\n",
              "        vertical-align: top;\n",
              "    }\n",
              "\n",
              "    .dataframe thead th {\n",
              "        text-align: right;\n",
              "    }\n",
              "</style>\n",
              "<table border=\"1\" class=\"dataframe\">\n",
              "  <thead>\n",
              "    <tr style=\"text-align: right;\">\n",
              "      <th></th>\n",
              "      <th>Genre</th>\n",
              "      <th>StarRating</th>\n",
              "      <th>Title</th>\n",
              "      <th>ContentRating</th>\n",
              "      <th>Duration</th>\n",
              "      <th>ActorList</th>\n",
              "    </tr>\n",
              "  </thead>\n",
              "  <tbody>\n",
              "    <tr>\n",
              "      <th>0</th>\n",
              "      <td>Action</td>\n",
              "      <td>9.0</td>\n",
              "      <td>The Dark Knight</td>\n",
              "      <td>PG-13</td>\n",
              "      <td>152</td>\n",
              "      <td>[u'Christian Bale', u'Heath Ledger', u'Aaron E...</td>\n",
              "    </tr>\n",
              "    <tr>\n",
              "      <th>1</th>\n",
              "      <td>Adventure</td>\n",
              "      <td>8.9</td>\n",
              "      <td>The Lord of the Rings: The Return of the King</td>\n",
              "      <td>PG-13</td>\n",
              "      <td>201</td>\n",
              "      <td>[u'Elijah Wood', u'Viggo Mortensen', u'Ian McK...</td>\n",
              "    </tr>\n",
              "    <tr>\n",
              "      <th>2</th>\n",
              "      <td>Animation</td>\n",
              "      <td>8.6</td>\n",
              "      <td>Spirited Away</td>\n",
              "      <td>PG</td>\n",
              "      <td>125</td>\n",
              "      <td>[u'Daveigh Chase', u'Suzanne Pleshette', u'Miy...</td>\n",
              "    </tr>\n",
              "    <tr>\n",
              "      <th>3</th>\n",
              "      <td>Biography</td>\n",
              "      <td>8.9</td>\n",
              "      <td>Schindler's List</td>\n",
              "      <td>R</td>\n",
              "      <td>195</td>\n",
              "      <td>[u'Liam Neeson', u'Ralph Fiennes', u'Ben Kings...</td>\n",
              "    </tr>\n",
              "    <tr>\n",
              "      <th>4</th>\n",
              "      <td>Comedy</td>\n",
              "      <td>8.6</td>\n",
              "      <td>Modern Times</td>\n",
              "      <td>G</td>\n",
              "      <td>87</td>\n",
              "      <td>[u'Charles Chaplin', u'Paulette Goddard', u'He...</td>\n",
              "    </tr>\n",
              "    <tr>\n",
              "      <th>5</th>\n",
              "      <td>Crime</td>\n",
              "      <td>9.3</td>\n",
              "      <td>The Shawshank Redemption</td>\n",
              "      <td>R</td>\n",
              "      <td>142</td>\n",
              "      <td>[u'Tim Robbins', u'Morgan Freeman', u'Bob Gunt...</td>\n",
              "    </tr>\n",
              "    <tr>\n",
              "      <th>6</th>\n",
              "      <td>Drama</td>\n",
              "      <td>8.9</td>\n",
              "      <td>12 Angry Men</td>\n",
              "      <td>UNRATED</td>\n",
              "      <td>96</td>\n",
              "      <td>[u'Henry Fonda', u'Lee J. Cobb', u'Martin Bals...</td>\n",
              "    </tr>\n",
              "    <tr>\n",
              "      <th>7</th>\n",
              "      <td>Family</td>\n",
              "      <td>7.9</td>\n",
              "      <td>E.T. the Extra-Terrestrial</td>\n",
              "      <td>PG</td>\n",
              "      <td>115</td>\n",
              "      <td>[u'Henry Thomas', u'Drew Barrymore', u'Peter C...</td>\n",
              "    </tr>\n",
              "    <tr>\n",
              "      <th>8</th>\n",
              "      <td>Fantasy</td>\n",
              "      <td>7.7</td>\n",
              "      <td>The City of Lost Children</td>\n",
              "      <td>R</td>\n",
              "      <td>112</td>\n",
              "      <td>[u'Ron Perlman', u'Daniel Emilfork', u'Judith ...</td>\n",
              "    </tr>\n",
              "    <tr>\n",
              "      <th>9</th>\n",
              "      <td>Film-Noir</td>\n",
              "      <td>8.3</td>\n",
              "      <td>The Third Man</td>\n",
              "      <td>UNRATED</td>\n",
              "      <td>93</td>\n",
              "      <td>[u'Orson Welles', u'Joseph Cotten', u'Alida Va...</td>\n",
              "    </tr>\n",
              "    <tr>\n",
              "      <th>10</th>\n",
              "      <td>History</td>\n",
              "      <td>8.0</td>\n",
              "      <td>Battleship Potemkin</td>\n",
              "      <td>UNRATED</td>\n",
              "      <td>66</td>\n",
              "      <td>[u'Aleksandr Antonov', u'Vladimir Barsky', u'G...</td>\n",
              "    </tr>\n",
              "    <tr>\n",
              "      <th>11</th>\n",
              "      <td>Horror</td>\n",
              "      <td>8.6</td>\n",
              "      <td>Psycho</td>\n",
              "      <td>R</td>\n",
              "      <td>109</td>\n",
              "      <td>[u'Anthony Perkins', u'Janet Leigh', u'Vera Mi...</td>\n",
              "    </tr>\n",
              "    <tr>\n",
              "      <th>12</th>\n",
              "      <td>Mystery</td>\n",
              "      <td>8.6</td>\n",
              "      <td>Rear Window</td>\n",
              "      <td>UNRATED</td>\n",
              "      <td>112</td>\n",
              "      <td>[u'James Stewart', u'Grace Kelly', u'Wendell C...</td>\n",
              "    </tr>\n",
              "    <tr>\n",
              "      <th>13</th>\n",
              "      <td>Sci-Fi</td>\n",
              "      <td>8.2</td>\n",
              "      <td>Blade Runner</td>\n",
              "      <td>R</td>\n",
              "      <td>117</td>\n",
              "      <td>[u'Harrison Ford', u'Rutger Hauer', u'Sean You...</td>\n",
              "    </tr>\n",
              "    <tr>\n",
              "      <th>14</th>\n",
              "      <td>Thriller</td>\n",
              "      <td>8.0</td>\n",
              "      <td>Shadow of a Doubt</td>\n",
              "      <td>UNRATED</td>\n",
              "      <td>108</td>\n",
              "      <td>[u'Teresa Wright', u'Joseph Cotten', u'Macdona...</td>\n",
              "    </tr>\n",
              "    <tr>\n",
              "      <th>15</th>\n",
              "      <td>Western</td>\n",
              "      <td>8.9</td>\n",
              "      <td>The Good, the Bad and the Ugly</td>\n",
              "      <td>UNRATED</td>\n",
              "      <td>161</td>\n",
              "      <td>[u'Clint Eastwood', u'Eli Wallach', u'Lee Van ...</td>\n",
              "    </tr>\n",
              "  </tbody>\n",
              "</table>\n",
              "</div>"
            ],
            "text/plain": [
              "        Genre  ...                                          ActorList\n",
              "0      Action  ...  [u'Christian Bale', u'Heath Ledger', u'Aaron E...\n",
              "1   Adventure  ...  [u'Elijah Wood', u'Viggo Mortensen', u'Ian McK...\n",
              "2   Animation  ...  [u'Daveigh Chase', u'Suzanne Pleshette', u'Miy...\n",
              "3   Biography  ...  [u'Liam Neeson', u'Ralph Fiennes', u'Ben Kings...\n",
              "4      Comedy  ...  [u'Charles Chaplin', u'Paulette Goddard', u'He...\n",
              "5       Crime  ...  [u'Tim Robbins', u'Morgan Freeman', u'Bob Gunt...\n",
              "6       Drama  ...  [u'Henry Fonda', u'Lee J. Cobb', u'Martin Bals...\n",
              "7      Family  ...  [u'Henry Thomas', u'Drew Barrymore', u'Peter C...\n",
              "8     Fantasy  ...  [u'Ron Perlman', u'Daniel Emilfork', u'Judith ...\n",
              "9   Film-Noir  ...  [u'Orson Welles', u'Joseph Cotten', u'Alida Va...\n",
              "10    History  ...  [u'Aleksandr Antonov', u'Vladimir Barsky', u'G...\n",
              "11     Horror  ...  [u'Anthony Perkins', u'Janet Leigh', u'Vera Mi...\n",
              "12    Mystery  ...  [u'James Stewart', u'Grace Kelly', u'Wendell C...\n",
              "13     Sci-Fi  ...  [u'Harrison Ford', u'Rutger Hauer', u'Sean You...\n",
              "14   Thriller  ...  [u'Teresa Wright', u'Joseph Cotten', u'Macdona...\n",
              "15    Western  ...  [u'Clint Eastwood', u'Eli Wallach', u'Lee Van ...\n",
              "\n",
              "[16 rows x 6 columns]"
            ]
          },
          "metadata": {
            "tags": []
          },
          "execution_count": 99
        }
      ]
    },
    {
      "cell_type": "code",
      "metadata": {
        "colab": {
          "base_uri": "https://localhost:8080/",
          "height": 294
        },
        "id": "h-mXoIgGypn8",
        "outputId": "47cf358b-085f-4501-fcc1-c3376b35cdff"
      },
      "source": [
        "### Task 3 - check if there are multiple movies with the same title, and if so, determine if they are actually duplicates\n",
        "# these dont seem like duplicates...maybe re-makes?\n",
        "duplicated_titles = movies[movies['Title'].duplicated()]['Title']\n",
        "duplicates = movies[movies['Title'].isin(duplicated_titles)]\n",
        "duplicates.sort_values('Title').reset_index(drop = True)"
      ],
      "execution_count": 110,
      "outputs": [
        {
          "output_type": "execute_result",
          "data": {
            "text/html": [
              "<div>\n",
              "<style scoped>\n",
              "    .dataframe tbody tr th:only-of-type {\n",
              "        vertical-align: middle;\n",
              "    }\n",
              "\n",
              "    .dataframe tbody tr th {\n",
              "        vertical-align: top;\n",
              "    }\n",
              "\n",
              "    .dataframe thead th {\n",
              "        text-align: right;\n",
              "    }\n",
              "</style>\n",
              "<table border=\"1\" class=\"dataframe\">\n",
              "  <thead>\n",
              "    <tr style=\"text-align: right;\">\n",
              "      <th></th>\n",
              "      <th>StarRating</th>\n",
              "      <th>Title</th>\n",
              "      <th>ContentRating</th>\n",
              "      <th>Genre</th>\n",
              "      <th>Duration</th>\n",
              "      <th>ActorList</th>\n",
              "    </tr>\n",
              "  </thead>\n",
              "  <tbody>\n",
              "    <tr>\n",
              "      <th>0</th>\n",
              "      <td>7.6</td>\n",
              "      <td>Dracula</td>\n",
              "      <td>UNRATED</td>\n",
              "      <td>Horror</td>\n",
              "      <td>85</td>\n",
              "      <td>[u'Bela Lugosi', u'Helen Chandler', u'David Ma...</td>\n",
              "    </tr>\n",
              "    <tr>\n",
              "      <th>1</th>\n",
              "      <td>7.5</td>\n",
              "      <td>Dracula</td>\n",
              "      <td>R</td>\n",
              "      <td>Horror</td>\n",
              "      <td>128</td>\n",
              "      <td>[u'Gary Oldman', u'Winona Ryder', u'Anthony Ho...</td>\n",
              "    </tr>\n",
              "    <tr>\n",
              "      <th>2</th>\n",
              "      <td>7.7</td>\n",
              "      <td>Les Miserables</td>\n",
              "      <td>PG-13</td>\n",
              "      <td>Drama</td>\n",
              "      <td>158</td>\n",
              "      <td>[u'Hugh Jackman', u'Russell Crowe', u'Anne Hat...</td>\n",
              "    </tr>\n",
              "    <tr>\n",
              "      <th>3</th>\n",
              "      <td>7.5</td>\n",
              "      <td>Les Miserables</td>\n",
              "      <td>PG-13</td>\n",
              "      <td>Crime</td>\n",
              "      <td>134</td>\n",
              "      <td>[u'Liam Neeson', u'Geoffrey Rush', u'Uma Thurm...</td>\n",
              "    </tr>\n",
              "    <tr>\n",
              "      <th>4</th>\n",
              "      <td>7.9</td>\n",
              "      <td>The Girl with the Dragon Tattoo</td>\n",
              "      <td>R</td>\n",
              "      <td>Crime</td>\n",
              "      <td>158</td>\n",
              "      <td>[u'Daniel Craig', u'Rooney Mara', u'Christophe...</td>\n",
              "    </tr>\n",
              "    <tr>\n",
              "      <th>5</th>\n",
              "      <td>7.8</td>\n",
              "      <td>The Girl with the Dragon Tattoo</td>\n",
              "      <td>R</td>\n",
              "      <td>Crime</td>\n",
              "      <td>152</td>\n",
              "      <td>[u'Michael Nyqvist', u'Noomi Rapace', u'Ewa Fr...</td>\n",
              "    </tr>\n",
              "    <tr>\n",
              "      <th>6</th>\n",
              "      <td>7.7</td>\n",
              "      <td>True Grit</td>\n",
              "      <td>PG-13</td>\n",
              "      <td>Adventure</td>\n",
              "      <td>110</td>\n",
              "      <td>[u'Jeff Bridges', u'Matt Damon', u'Hailee Stei...</td>\n",
              "    </tr>\n",
              "    <tr>\n",
              "      <th>7</th>\n",
              "      <td>7.4</td>\n",
              "      <td>True Grit</td>\n",
              "      <td>UNRATED</td>\n",
              "      <td>Adventure</td>\n",
              "      <td>128</td>\n",
              "      <td>[u'John Wayne', u'Kim Darby', u'Glen Campbell']</td>\n",
              "    </tr>\n",
              "  </tbody>\n",
              "</table>\n",
              "</div>"
            ],
            "text/plain": [
              "   StarRating  ...                                          ActorList\n",
              "0         7.6  ...  [u'Bela Lugosi', u'Helen Chandler', u'David Ma...\n",
              "1         7.5  ...  [u'Gary Oldman', u'Winona Ryder', u'Anthony Ho...\n",
              "2         7.7  ...  [u'Hugh Jackman', u'Russell Crowe', u'Anne Hat...\n",
              "3         7.5  ...  [u'Liam Neeson', u'Geoffrey Rush', u'Uma Thurm...\n",
              "4         7.9  ...  [u'Daniel Craig', u'Rooney Mara', u'Christophe...\n",
              "5         7.8  ...  [u'Michael Nyqvist', u'Noomi Rapace', u'Ewa Fr...\n",
              "6         7.7  ...  [u'Jeff Bridges', u'Matt Damon', u'Hailee Stei...\n",
              "7         7.4  ...    [u'John Wayne', u'Kim Darby', u'Glen Campbell']\n",
              "\n",
              "[8 rows x 6 columns]"
            ]
          },
          "metadata": {
            "tags": []
          },
          "execution_count": 110
        }
      ]
    },
    {
      "cell_type": "markdown",
      "metadata": {
        "id": "W0r7kk8n6UWb"
      },
      "source": [
        "#### Bonus"
      ]
    },
    {
      "cell_type": "code",
      "metadata": {
        "colab": {
          "base_uri": "https://localhost:8080/"
        },
        "id": "5qjFsRXnBnqs",
        "outputId": "8c278357-8dec-42aa-e27d-59b300a48ddd"
      },
      "source": [
        "### Part 1 - calculate the average star rating for each genre, only include genres with at least 10 movies\n",
        "count = movies['Genre'].value_counts()\n",
        "movie_list = count[count >= 10].index\n",
        "movies[movies['Genre'].isin(movie_list)].groupby('Genre')['StarRating'].agg('mean')"
      ],
      "execution_count": 133,
      "outputs": [
        {
          "output_type": "execute_result",
          "data": {
            "text/plain": [
              "Genre\n",
              "Action       7.884559\n",
              "Adventure    7.933333\n",
              "Animation    7.914516\n",
              "Biography    7.862338\n",
              "Comedy       7.822436\n",
              "Crime        7.916935\n",
              "Drama        7.902518\n",
              "Horror       7.806897\n",
              "Mystery      7.975000\n",
              "Name: StarRating, dtype: float64"
            ]
          },
          "metadata": {
            "tags": []
          },
          "execution_count": 133
        }
      ]
    },
    {
      "cell_type": "code",
      "metadata": {
        "colab": {
          "base_uri": "https://localhost:8080/",
          "height": 325
        },
        "id": "2nx3kcjy14ZR",
        "outputId": "489e2970-0648-4293-c480-d58f2e35a359"
      },
      "source": [
        "### Part 1 - calculate the average rating for each genre, only include genres with at least 10 movies\n",
        "# Method A - create a list of relevant genres by saving the value_counts and then filtering\n",
        "\n",
        "# creating a series of genre counts\n",
        "counts = movies['Genre'].value_counts()\n",
        "# filtering the above series, setting genre as the index, essentially creating a list\n",
        "top_genres = counts[counts >= 10].index\n",
        "# filtering the movies dataframe by genres that exist in top_genres\n",
        "filtered_movies = movies[movies['Genre'].isin(top_genres)].groupby('Genre')['StarRating'].mean().reset_index()\n",
        "filtered_movies.sort_values('StarRating', inplace = True, ascending = False)\n",
        "filtered_movies"
      ],
      "execution_count": 139,
      "outputs": [
        {
          "output_type": "execute_result",
          "data": {
            "text/html": [
              "<div>\n",
              "<style scoped>\n",
              "    .dataframe tbody tr th:only-of-type {\n",
              "        vertical-align: middle;\n",
              "    }\n",
              "\n",
              "    .dataframe tbody tr th {\n",
              "        vertical-align: top;\n",
              "    }\n",
              "\n",
              "    .dataframe thead th {\n",
              "        text-align: right;\n",
              "    }\n",
              "</style>\n",
              "<table border=\"1\" class=\"dataframe\">\n",
              "  <thead>\n",
              "    <tr style=\"text-align: right;\">\n",
              "      <th></th>\n",
              "      <th>Genre</th>\n",
              "      <th>StarRating</th>\n",
              "    </tr>\n",
              "  </thead>\n",
              "  <tbody>\n",
              "    <tr>\n",
              "      <th>8</th>\n",
              "      <td>Mystery</td>\n",
              "      <td>7.975000</td>\n",
              "    </tr>\n",
              "    <tr>\n",
              "      <th>1</th>\n",
              "      <td>Adventure</td>\n",
              "      <td>7.933333</td>\n",
              "    </tr>\n",
              "    <tr>\n",
              "      <th>5</th>\n",
              "      <td>Crime</td>\n",
              "      <td>7.916935</td>\n",
              "    </tr>\n",
              "    <tr>\n",
              "      <th>2</th>\n",
              "      <td>Animation</td>\n",
              "      <td>7.914516</td>\n",
              "    </tr>\n",
              "    <tr>\n",
              "      <th>6</th>\n",
              "      <td>Drama</td>\n",
              "      <td>7.902518</td>\n",
              "    </tr>\n",
              "    <tr>\n",
              "      <th>0</th>\n",
              "      <td>Action</td>\n",
              "      <td>7.884559</td>\n",
              "    </tr>\n",
              "    <tr>\n",
              "      <th>3</th>\n",
              "      <td>Biography</td>\n",
              "      <td>7.862338</td>\n",
              "    </tr>\n",
              "    <tr>\n",
              "      <th>4</th>\n",
              "      <td>Comedy</td>\n",
              "      <td>7.822436</td>\n",
              "    </tr>\n",
              "    <tr>\n",
              "      <th>7</th>\n",
              "      <td>Horror</td>\n",
              "      <td>7.806897</td>\n",
              "    </tr>\n",
              "  </tbody>\n",
              "</table>\n",
              "</div>"
            ],
            "text/plain": [
              "       Genre  StarRating\n",
              "8    Mystery    7.975000\n",
              "1  Adventure    7.933333\n",
              "5      Crime    7.916935\n",
              "2  Animation    7.914516\n",
              "6      Drama    7.902518\n",
              "0     Action    7.884559\n",
              "3  Biography    7.862338\n",
              "4     Comedy    7.822436\n",
              "7     Horror    7.806897"
            ]
          },
          "metadata": {
            "tags": []
          },
          "execution_count": 139
        }
      ]
    },
    {
      "cell_type": "code",
      "metadata": {
        "colab": {
          "base_uri": "https://localhost:8080/",
          "height": 325
        },
        "id": "r9fFgcNu6j73",
        "outputId": "041cf955-cdcb-4fd5-8f59-4fcd58b7b6fd"
      },
      "source": [
        "# Method B - calculate the average star rating for all genres, filter using a boolean Series\n",
        "method_b = movies.groupby('Genre')['StarRating'].mean()[movies['Genre'].value_counts() >= 10].reset_index()\n",
        "method_b = method_b.sort_values('StarRating', ascending = False)\n",
        "method_b"
      ],
      "execution_count": 145,
      "outputs": [
        {
          "output_type": "execute_result",
          "data": {
            "text/html": [
              "<div>\n",
              "<style scoped>\n",
              "    .dataframe tbody tr th:only-of-type {\n",
              "        vertical-align: middle;\n",
              "    }\n",
              "\n",
              "    .dataframe tbody tr th {\n",
              "        vertical-align: top;\n",
              "    }\n",
              "\n",
              "    .dataframe thead th {\n",
              "        text-align: right;\n",
              "    }\n",
              "</style>\n",
              "<table border=\"1\" class=\"dataframe\">\n",
              "  <thead>\n",
              "    <tr style=\"text-align: right;\">\n",
              "      <th></th>\n",
              "      <th>Genre</th>\n",
              "      <th>StarRating</th>\n",
              "    </tr>\n",
              "  </thead>\n",
              "  <tbody>\n",
              "    <tr>\n",
              "      <th>8</th>\n",
              "      <td>Mystery</td>\n",
              "      <td>7.975000</td>\n",
              "    </tr>\n",
              "    <tr>\n",
              "      <th>1</th>\n",
              "      <td>Adventure</td>\n",
              "      <td>7.933333</td>\n",
              "    </tr>\n",
              "    <tr>\n",
              "      <th>5</th>\n",
              "      <td>Crime</td>\n",
              "      <td>7.916935</td>\n",
              "    </tr>\n",
              "    <tr>\n",
              "      <th>2</th>\n",
              "      <td>Animation</td>\n",
              "      <td>7.914516</td>\n",
              "    </tr>\n",
              "    <tr>\n",
              "      <th>6</th>\n",
              "      <td>Drama</td>\n",
              "      <td>7.902518</td>\n",
              "    </tr>\n",
              "    <tr>\n",
              "      <th>0</th>\n",
              "      <td>Action</td>\n",
              "      <td>7.884559</td>\n",
              "    </tr>\n",
              "    <tr>\n",
              "      <th>3</th>\n",
              "      <td>Biography</td>\n",
              "      <td>7.862338</td>\n",
              "    </tr>\n",
              "    <tr>\n",
              "      <th>4</th>\n",
              "      <td>Comedy</td>\n",
              "      <td>7.822436</td>\n",
              "    </tr>\n",
              "    <tr>\n",
              "      <th>7</th>\n",
              "      <td>Horror</td>\n",
              "      <td>7.806897</td>\n",
              "    </tr>\n",
              "  </tbody>\n",
              "</table>\n",
              "</div>"
            ],
            "text/plain": [
              "       Genre  StarRating\n",
              "8    Mystery    7.975000\n",
              "1  Adventure    7.933333\n",
              "5      Crime    7.916935\n",
              "2  Animation    7.914516\n",
              "6      Drama    7.902518\n",
              "0     Action    7.884559\n",
              "3  Biography    7.862338\n",
              "4     Comedy    7.822436\n",
              "7     Horror    7.806897"
            ]
          },
          "metadata": {
            "tags": []
          },
          "execution_count": 145
        }
      ]
    },
    {
      "cell_type": "code",
      "metadata": {
        "colab": {
          "base_uri": "https://localhost:8080/",
          "height": 325
        },
        "id": "1t6izOB9ueQ2",
        "outputId": "c9bb3395-1d8a-4a79-a691-238a6af0c049"
      },
      "source": [
        "# Method C - aggregate by count and mean, then filter using the count\n",
        "method_c = movies.groupby('Genre')['StarRating'].agg(['mean', 'count']).rename(columns = {'mean': 'StarRating'}).reset_index()\n",
        "method_c[method_c['count'] >= 10][['Genre', 'StarRating']].sort_values('StarRating', ascending = False)"
      ],
      "execution_count": 156,
      "outputs": [
        {
          "output_type": "execute_result",
          "data": {
            "text/html": [
              "<div>\n",
              "<style scoped>\n",
              "    .dataframe tbody tr th:only-of-type {\n",
              "        vertical-align: middle;\n",
              "    }\n",
              "\n",
              "    .dataframe tbody tr th {\n",
              "        vertical-align: top;\n",
              "    }\n",
              "\n",
              "    .dataframe thead th {\n",
              "        text-align: right;\n",
              "    }\n",
              "</style>\n",
              "<table border=\"1\" class=\"dataframe\">\n",
              "  <thead>\n",
              "    <tr style=\"text-align: right;\">\n",
              "      <th></th>\n",
              "      <th>Genre</th>\n",
              "      <th>StarRating</th>\n",
              "    </tr>\n",
              "  </thead>\n",
              "  <tbody>\n",
              "    <tr>\n",
              "      <th>12</th>\n",
              "      <td>Mystery</td>\n",
              "      <td>7.975000</td>\n",
              "    </tr>\n",
              "    <tr>\n",
              "      <th>1</th>\n",
              "      <td>Adventure</td>\n",
              "      <td>7.933333</td>\n",
              "    </tr>\n",
              "    <tr>\n",
              "      <th>5</th>\n",
              "      <td>Crime</td>\n",
              "      <td>7.916935</td>\n",
              "    </tr>\n",
              "    <tr>\n",
              "      <th>2</th>\n",
              "      <td>Animation</td>\n",
              "      <td>7.914516</td>\n",
              "    </tr>\n",
              "    <tr>\n",
              "      <th>6</th>\n",
              "      <td>Drama</td>\n",
              "      <td>7.902518</td>\n",
              "    </tr>\n",
              "    <tr>\n",
              "      <th>0</th>\n",
              "      <td>Action</td>\n",
              "      <td>7.884559</td>\n",
              "    </tr>\n",
              "    <tr>\n",
              "      <th>3</th>\n",
              "      <td>Biography</td>\n",
              "      <td>7.862338</td>\n",
              "    </tr>\n",
              "    <tr>\n",
              "      <th>4</th>\n",
              "      <td>Comedy</td>\n",
              "      <td>7.822436</td>\n",
              "    </tr>\n",
              "    <tr>\n",
              "      <th>11</th>\n",
              "      <td>Horror</td>\n",
              "      <td>7.806897</td>\n",
              "    </tr>\n",
              "  </tbody>\n",
              "</table>\n",
              "</div>"
            ],
            "text/plain": [
              "        Genre  StarRating\n",
              "12    Mystery    7.975000\n",
              "1   Adventure    7.933333\n",
              "5       Crime    7.916935\n",
              "2   Animation    7.914516\n",
              "6       Drama    7.902518\n",
              "0      Action    7.884559\n",
              "3   Biography    7.862338\n",
              "4      Comedy    7.822436\n",
              "11     Horror    7.806897"
            ]
          },
          "metadata": {
            "tags": []
          },
          "execution_count": 156
        }
      ]
    },
    {
      "cell_type": "code",
      "metadata": {
        "colab": {
          "base_uri": "https://localhost:8080/"
        },
        "id": "pvGRbleivOmF",
        "outputId": "e1d27b5b-8622-4386-ec7e-ed6147b7615d"
      },
      "source": [
        "### Part 2 - Figure out something \"interesting\" using the actors data\n",
        "pd.set_option('display.max_colwidth', 100)\n",
        "\n",
        "# Step 2 - creating a function that will be used to clean the ActorList column\n",
        "def string_cleaner(row):\n",
        "  row = row.replace(\"u'\",\"\")\n",
        "  char = \"'\\\"\"\n",
        "  row = row[1:-1]\n",
        "  for c in char:\n",
        "    row = row.replace(c,\"\")\n",
        "  return row\n",
        "\n",
        "movies['ActorList'].apply(lambda x: string_cleaner(x).split(\",\"))"
      ],
      "execution_count": 191,
      "outputs": [
        {
          "output_type": "execute_result",
          "data": {
            "text/plain": [
              "0                  [Tim Robbins,  Morgan Freeman,  Bob Gunton]\n",
              "1                     [Marlon Brando,  Al Pacino,  James Caan]\n",
              "2                 [Al Pacino,  Robert De Niro,  Robert Duvall]\n",
              "3              [Christian Bale,  Heath Ledger,  Aaron Eckhart]\n",
              "4            [John Travolta,  Uma Thurman,  Samuel L. Jackson]\n",
              "                                ...                           \n",
              "974               [Dustin Hoffman,  Jessica Lange,  Teri Garr]\n",
              "975    [Michael J. Fox,  Christopher Lloyd,  Mary Steenburgen]\n",
              "976                [Russell Crowe,  Paul Bettany,  Billy Boyd]\n",
              "977     [JoBeth Williams,  uHeather ORourke,  Craig T. Nelson]\n",
              "978           [Charlie Sheen,  Michael Douglas,  Tamara Tunie]\n",
              "Name: ActorList, Length: 979, dtype: object"
            ]
          },
          "metadata": {
            "tags": []
          },
          "execution_count": 191
        }
      ]
    },
    {
      "cell_type": "code",
      "metadata": {
        "colab": {
          "base_uri": "https://localhost:8080/"
        },
        "id": "J23SyHrrypT_",
        "outputId": "c995c866-a8af-4a9d-b812-9ecea074a086"
      },
      "source": [
        "# Step 1 - finding max number of actors\n",
        "movies['ActorCount'] = movies['ActorList'].apply(lambda x: x.count(\",\") + 1)\n",
        "movies['ActorCount'].value_counts()"
      ],
      "execution_count": 192,
      "outputs": [
        {
          "output_type": "execute_result",
          "data": {
            "text/plain": [
              "3    979\n",
              "Name: ActorCount, dtype: int64"
            ]
          },
          "metadata": {
            "tags": []
          },
          "execution_count": 192
        }
      ]
    },
    {
      "cell_type": "code",
      "metadata": {
        "id": "XaXsIGkj7vMb"
      },
      "source": [
        "# Step 2 - creating a function that will be used to clean the ActorList column\n",
        "def string_cleaner(row):\n",
        "  row = row.replace(\"u\\\"\",\"\")\n",
        "  row = row.replace(\"u'\",\"\")\n",
        "  row = row[1:-1]\n",
        "  char = \"'\\\"\"\n",
        "  for c in char:\n",
        "    row = row.replace(c,\"\")\n",
        "  return row.split(\",\")"
      ],
      "execution_count": 211,
      "outputs": []
    },
    {
      "cell_type": "code",
      "metadata": {
        "id": "H8MRFrnl8LdW"
      },
      "source": [
        "# Step 3 - applying the above function to create individual actor columns\n",
        "movies['Actor1'] = movies['ActorList'].apply(lambda x: string_cleaner(x)[0])\n",
        "movies['Actor2'] = movies['ActorList'].apply(lambda x: string_cleaner(x)[1])\n",
        "movies['Actor3'] = movies['ActorList'].apply(lambda x: string_cleaner(x)[2])"
      ],
      "execution_count": 212,
      "outputs": []
    },
    {
      "cell_type": "code",
      "metadata": {
        "colab": {
          "base_uri": "https://localhost:8080/"
        },
        "id": "FepEQBxa8X9V",
        "outputId": "8ecbaa2d-0132-4dc4-a37a-6b1103fd3a6e"
      },
      "source": [
        "movies.groupby('Actor1')['StarRating'].mean()\n"
      ],
      "execution_count": 214,
      "outputs": [
        {
          "output_type": "execute_result",
          "data": {
            "text/plain": [
              "Actor1\n",
              "Aamir Khan              8.375\n",
              "Aaron Eckhart           7.600\n",
              "Aaron Taylor-Johnson    7.700\n",
              "Adam Sandler            7.500\n",
              "Adriana Caselotti       7.700\n",
              "                        ...  \n",
              "Zach Galifianakis       7.800\n",
              "Zbigniew Zamachowski    7.700\n",
              "Zero Mostel             7.700\n",
              "Ziyi Zhang              7.600\n",
              "Zooey Deschanel         7.800\n",
              "Name: StarRating, Length: 581, dtype: float64"
            ]
          },
          "metadata": {
            "tags": []
          },
          "execution_count": 214
        }
      ]
    },
    {
      "cell_type": "code",
      "metadata": {
        "id": "Ju07bCSK96Wx"
      },
      "source": [
        ""
      ],
      "execution_count": null,
      "outputs": []
    }
  ]
}